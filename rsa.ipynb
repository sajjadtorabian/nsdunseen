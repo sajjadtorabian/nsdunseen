{
 "cells": [
  {
   "cell_type": "code",
   "execution_count": 4,
   "id": "34240080-f15d-49c9-b4a6-f5835c113afb",
   "metadata": {},
   "outputs": [],
   "source": [
    "import s3fs\n",
    "import numpy as np\n",
    "import pandas as pd\n",
    "\n",
    "from mvpa2.datasets.mri import fmri_dataset\n",
    "from mvpa2 import cfg\n",
    "import mvpa2.datasets as md\n",
    "from mvpa2.measures import rsa\n",
    "\n",
    "import pylab as pl"
   ]
  },
  {
   "cell_type": "code",
   "execution_count": 5,
   "id": "31da6c37-803d-4be9-a4c9-74f30fd66b81",
   "metadata": {},
   "outputs": [],
   "source": [
    "## Load the data file names\n",
    "fs = s3fs.S3FileSystem(anon=True)\n",
    "ll = fs.ls('natural-scenes-dataset/nsddata_betas/ppdata/subj01/func1pt8mm/betas_fithrf_GLMdenoise_RR')\n",
    "sess_beta_list = [l for l in ll if l.split('/')[6].startswith(\"betas\") and l.endswith(\"nii.gz\")]\n",
    "\n",
    "behav_data = pd.read_csv('subj01/behav/final_response.tsv', sep='\\t')"
   ]
  },
  {
   "cell_type": "code",
   "execution_count": 6,
   "id": "57e04623-7ab7-48f0-9421-42235020fee1",
   "metadata": {},
   "outputs": [
    {
     "name": "stdout",
     "output_type": "stream",
     "text": [
      "2\n",
      "natural-scenes-dataset/nsddata_betas/ppdata/subj01/func1pt8mm/betas_fithrf_GLMdenoise_RR/betas_session02.nii.gz\n",
      "3\n",
      "natural-scenes-dataset/nsddata_betas/ppdata/subj01/func1pt8mm/betas_fithrf_GLMdenoise_RR/betas_session03.nii.gz\n"
     ]
    }
   ],
   "source": [
    "### Load the data\n",
    "# load the first session\n",
    "sess = 1\n",
    "sess_fname = sess_beta_list[0]\n",
    "print(f\"Loading session {sess} data ...\")\n",
    "# load the session data\n",
    "fs.get(sess_fname, \"tmp.nii.gz\")\n",
    "sess_data = fmri_dataset(\"tmp.nii.gz\", mask = \"TPJfunc.nii\")\n",
    "\n",
    "# extract the behavioral data for the session\n",
    "tmp_behav = behav_data[behav_data['SESSION'] == sess] \n",
    "\n",
    "# only take the trials that have an interaction_type (i.e., not null)\n",
    "indices = tmp_behav['interaction_type'].notnull().tolist()\n",
    "\n",
    "# take the beta values for those trials\n",
    "all_sess_ds = sess_data[indices, :]\n",
    "\n",
    "# add the target (interaction_type) and chunk (session) information to the dataset\n",
    "targets = tmp_behav[indices]['interaction_type'].tolist()\n",
    "chunks = tmp_behav[indices]['SESSION']\n",
    "\n",
    "all_sess_ds.sa['targets'] = targets\n",
    "all_sess_ds.sa['chunks'] = chunks\n",
    "\n",
    "# add an attribute that determines whether the session should be included in the training or test dataset\n",
    "if (sess) >=36:\n",
    "    all_sess_ds.sa['train_or_test'] = ['test'] * len(all_sess_ds)\n",
    "else:\n",
    "    all_sess_ds.sa['train_or_test'] = ['train'] * len(all_sess_ds)\n",
    "\n",
    "# then concatenate the other sessions to the first session\n",
    "for sess, sess_fname in enumerate(sess_beta_list[1:3]): \n",
    "    print(f\"Loading session {sess+2} data ...\")\n",
    "    # load the session data\n",
    "    fs.get(sess_fname, \"tmp.nii.gz\")\n",
    "    sess_data = fmri_dataset(\"tmp.nii.gz\", mask = \"TPJfunc.nii\")\n",
    "\n",
    "    # extract the behavioral data for the session\n",
    "    tmp_behav = behav_data[behav_data['SESSION'] == (sess+2)] \n",
    "\n",
    "    # only take the trials that have an interaction_type (i.e., not null)\n",
    "    indices = tmp_behav['interaction_type'].notnull().tolist()\n",
    "\n",
    "    # take the beta values for those trials\n",
    "    tmp_ds = sess_data[indices, :]\n",
    "\n",
    "    # add the target (interaction_type) and chunk (session) information to the dataset\n",
    "    targets = tmp_behav[indices]['interaction_type'].tolist()\n",
    "    chunks = tmp_behav[indices]['SESSION']\n",
    "    tmp_ds.sa['targets'] = targets\n",
    "    tmp_ds.sa['chunks'] = chunks\n",
    "    \n",
    "    # add an attribute that determines whether the session should be included in the training or test dataset\n",
    "    if (sess+2) >=36:\n",
    "        tmp_ds.sa['train_or_test'] = ['test'] * len(tmp_ds)\n",
    "    else:\n",
    "        tmp_ds.sa['train_or_test'] = ['train'] * len(tmp_ds)\n",
    "    \n",
    "    # concatenate the tmp_ds to the all_sess_ds\n",
    "    all_sess_ds = md.vstack((all_sess_ds, tmp_ds))"
   ]
  },
  {
   "cell_type": "code",
   "execution_count": 7,
   "id": "b4066d00-cd68-4c17-9165-d199f1cd5baf",
   "metadata": {},
   "outputs": [
    {
     "name": "stdout",
     "output_type": "stream",
     "text": [
      "Dataset shape is: (37, 1000)\n"
     ]
    }
   ],
   "source": [
    "print(f\"Dataset shape is: {all_sess_ds.shape}\")"
   ]
  },
  {
   "cell_type": "code",
   "execution_count": 8,
   "id": "4ba5ee60-527a-4484-a19c-4fa23d6042a2",
   "metadata": {},
   "outputs": [
    {
     "data": {
      "text/plain": [
       "array([[-5.33333333e-02,  2.73333333e-01,  1.63333333e-01, ...,\n",
       "        -1.10666667e+00, -1.82000000e+00,  1.97000000e+00],\n",
       "       [-3.46666667e-01,  2.00000000e-01, -1.17333333e+00, ...,\n",
       "        -1.58666667e+00,  1.56000000e+00, -1.22666667e+00],\n",
       "       [ 2.33333333e-01,  2.18333333e+00, -1.84000000e+00, ...,\n",
       "        -7.66666667e-02,  1.33333333e-02,  1.39000000e+00],\n",
       "       ...,\n",
       "       [ 6.73333333e-01, -3.00000000e-01, -1.73333333e-01, ...,\n",
       "         7.05666667e+00, -6.90000000e-01, -1.23400000e+01],\n",
       "       [-7.10000000e-01,  9.53333333e-01, -2.17333333e+00, ...,\n",
       "         2.21000000e+00, -1.90000000e-01, -1.85600000e+01],\n",
       "       [ 8.73333333e-01, -9.66666667e-02, -2.33333333e-02, ...,\n",
       "        -2.77666667e+00,  5.70000000e-01,  5.04333333e+00]])"
      ]
     },
     "execution_count": 8,
     "metadata": {},
     "output_type": "execute_result"
    }
   ],
   "source": [
    "## convert the integer values to percent change (according to https://cvnlab.slite.com/p/6CusMRYfk0/Functional-data-NSD)\n",
    "normalized_all_sess_ds = all_sess_ds.copy()\n",
    "normalized_all_sess_ds.samples = normalized_all_sess_ds.samples.astype('float')/300\n",
    "normalized_all_sess_ds.samples"
   ]
  },
  {
   "cell_type": "code",
   "execution_count": 9,
   "id": "e5fe670d-89e5-424b-9be5-336bcf29fb23",
   "metadata": {},
   "outputs": [],
   "source": [
    "## Helper function to plot the dissimilarity matrices\n",
    "def plot_mtx(mtx, labels, title):\n",
    "    pl.figure()\n",
    "    pl.imshow(mtx, interpolation='nearest')\n",
    "    pl.xticks(range(len(mtx)), labels, rotation=-45)\n",
    "    pl.yticks(range(len(mtx)), labels)\n",
    "    pl.title(title)\n",
    "    pl.clim((0, 2))\n",
    "    pl.colorbar()"
   ]
  },
  {
   "cell_type": "code",
   "execution_count": 10,
   "id": "164cffd2-c709-42ad-a7e3-417941c1695e",
   "metadata": {},
   "outputs": [
    {
     "data": {
      "image/png": "[encoded data removed]",
      "text/plain": [
       "<Figure size 432x288 with 2 Axes>"
      ]
     },
     "metadata": {
      "needs_background": "light"
     },
     "output_type": "display_data"
    }
   ],
   "source": [
    "# basic ROI RSA -- dissimilarity matrix for the entire ROI\n",
    "dsm = rsa.PDist(square=True)\n",
    "res = dsm(normalized_all_sess_ds)\n",
    "plot_mtx(res, np.arange(len(normalized_all_sess_ds)), 'ROI pattern correlation distances')"
   ]
  },
  {
   "cell_type": "code",
   "execution_count": null,
   "id": "e5ae8b52-d991-4584-bd2b-632f16ab48ae",
   "metadata": {},
   "outputs": [],
   "source": []
  }
 ],
 "metadata": {
  "kernelspec": {
   "display_name": "Python 3 (ipykernel)",
   "language": "python",
   "name": "python3"
  },
  "language_info": {
   "codemirror_mode": {
    "name": "ipython",
    "version": 3
   },
   "file_extension": ".py",
   "mimetype": "text/x-python",
   "name": "python",
   "nbconvert_exporter": "python",
   "pygments_lexer": "ipython3",
   "version": "3.7.12"
  }
 },
 "nbformat": 4,
 "nbformat_minor": 5
}
