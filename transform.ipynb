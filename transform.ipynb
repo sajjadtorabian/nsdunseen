{
 "cells": [
  {
   "cell_type": "code",
   "execution_count": 90,
   "id": "539677db-0a38-4428-b8e3-0b9b57a539b6",
   "metadata": {},
   "outputs": [
    {
     "name": "stdout",
     "output_type": "stream",
     "text": [
      "(81, 104, 83, 3)\n",
      "[[  1.79999995   0.           0.         -72.        ]\n",
      " [  0.           1.79999995   0.         -92.69999695]\n",
      " [  0.           0.           1.79999995 -73.79999542]\n",
      " [  0.           0.           0.           1.        ]]\n",
      "(182, 218, 182)\n"
     ]
    }
   ],
   "source": [
    "import nibabel as nib\n",
    "import numpy as np\n",
    "\n",
    "trns = nib.load(\"../shared/NSD/nsddata/ppdata/subj01/transforms/MNI-to-func1pt8.nii.gz\")\n",
    "print(trns.shape)\n",
    "print(trns.affine)\n",
    "\n",
    "mask = nib.load(\"../shared/NSD/marstpjparcellation_prob_TPJp.nii.gz\")\n",
    "print(mask.shape)"
   ]
  },
  {
   "cell_type": "code",
   "execution_count": 91,
   "id": "f15ff2ca-1ea5-4015-9c30-725f08a88a7e",
   "metadata": {},
   "outputs": [],
   "source": [
    "arr = trns.get_fdata()"
   ]
  },
  {
   "cell_type": "code",
   "execution_count": 110,
   "id": "391d2c45-2b10-4f02-a1cd-359dafcb5d76",
   "metadata": {},
   "outputs": [],
   "source": [
    "row_ii = arr[:,:,:,0].flatten()\n",
    "round_row_ii = row_ii.round().astype(int)\n",
    "#round_row_ii=round_row_ii-1\n",
    "\n",
    "col_ii = arr[:,:,:,1].flatten()\n",
    "round_col_ii = col_ii.round().astype(int)\n",
    "#round_col_ii=round_col_ii-1\n",
    "\n",
    "sli_ii = arr[:,:,:,2].flatten()\n",
    "round_sli_ii = sli_ii.round().astype(int)\n",
    "#round_sli_ii=round_sli_ii-1"
   ]
  },
  {
   "cell_type": "code",
   "execution_count": 114,
   "id": "386c05c9-7c55-4182-901b-abe8a22034b2",
   "metadata": {},
   "outputs": [],
   "source": [
    "condition = (round_row_ii>=182) | (round_row_ii<0)\n",
    "row_invalid_indices = np.argwhere(condition)\n",
    "round_row_ii[row_invalid_indices] = 0\n",
    "\n",
    "condition = (round_col_ii>=218) | (round_col_ii<0)\n",
    "col_invalid_indices = np.argwhere(condition)\n",
    "round_col_ii[col_invalid_indices] = 0\n",
    "\n",
    "condition = (round_sli_ii>=182) | (round_sli_ii<0)\n",
    "sli_invalid_indices = np.argwhere(condition)\n",
    "round_sli_ii[sli_invalid_indices] = 0"
   ]
  },
  {
   "cell_type": "code",
   "execution_count": null,
   "id": "719d9e79-85cf-4f3d-9463-9a0737c87f07",
   "metadata": {},
   "outputs": [],
   "source": []
  },
  {
   "cell_type": "code",
   "execution_count": 132,
   "id": "6d4df38a-0eed-41d5-8cc4-1cc5659ab280",
   "metadata": {},
   "outputs": [],
   "source": [
    "func_mask = mask_data[(round_row_ii, round_col_ii, round_sli_ii)]\n",
    "#.reshape((81, 104, 83))\n",
    "(func_mask.shape, round_row_ii.shape)\n",
    "func_mask[row_invalid_indices] = 0\n",
    "func_mask[col_invalid_indices] = 0\n",
    "func_mask[sli_invalid_indices] = 0\n",
    "\n",
    "func_mask = func_mask.reshape((81, 104, 83))"
   ]
  },
  {
   "cell_type": "code",
   "execution_count": 138,
   "id": "38b74fb3-b8b1-47f5-8dc6-f5f0ef3050fe",
   "metadata": {},
   "outputs": [
    {
     "data": {
      "application/vnd.jupyter.widget-view+json": {
       "model_id": "7ca93b09f70847d680787ecfd3fc49d3",
       "version_major": 2,
       "version_minor": 0
      },
      "text/plain": [
       "VBox(children=(VBox(children=(HBox(children=(Label(value='levels:'), FloatSlider(value=0.1, max=1.0, step=0.00…"
      ]
     },
     "metadata": {},
     "output_type": "display_data"
    }
   ],
   "source": [
    "import ipyvolume as ipv\n",
    "import s3fs\n",
    "ipv.quickvolshow(func_mask)\n",
    "\n"
   ]
  },
  {
   "cell_type": "code",
   "execution_count": 142,
   "id": "f12fc427-e7d4-4267-9cef-3feeba1d18cf",
   "metadata": {},
   "outputs": [],
   "source": [
    "nii = nib.Nifti1Image(func_mask, check.affine)\n",
    "nii.to_filename('TPJfunc')"
   ]
  },
  {
   "cell_type": "code",
   "execution_count": 139,
   "id": "40df03b2-8340-4393-8422-2fb6f41a7ac4",
   "metadata": {},
   "outputs": [
    {
     "ename": "TypeError",
     "evalue": "_grow_limits() takes 3 positional arguments but 4 were given",
     "output_type": "error",
     "traceback": [
      "\u001b[0;31m---------------------------------------------------------------------------\u001b[0m",
      "\u001b[0;31mTypeError\u001b[0m                                 Traceback (most recent call last)",
      "\u001b[0;32m/tmp/ipykernel_254/1221642049.py\u001b[0m in \u001b[0;36m<module>\u001b[0;34m\u001b[0m\n\u001b[1;32m      7\u001b[0m \u001b[0;34m\u001b[0m\u001b[0m\n\u001b[1;32m      8\u001b[0m \u001b[0mcheck\u001b[0m \u001b[0;34m=\u001b[0m \u001b[0mnib\u001b[0m\u001b[0;34m.\u001b[0m\u001b[0mload\u001b[0m\u001b[0;34m(\u001b[0m\u001b[0;34m\"tmp.nii.gz\"\u001b[0m\u001b[0;34m)\u001b[0m\u001b[0;34m\u001b[0m\u001b[0;34m\u001b[0m\u001b[0m\n\u001b[0;32m----> 9\u001b[0;31m \u001b[0mipv\u001b[0m\u001b[0;34m.\u001b[0m\u001b[0mquickvolshow\u001b[0m\u001b[0;34m(\u001b[0m\u001b[0mcheck\u001b[0m\u001b[0;34m.\u001b[0m\u001b[0mget_fdata\u001b[0m\u001b[0;34m(\u001b[0m\u001b[0;34m)\u001b[0m\u001b[0;34m)\u001b[0m\u001b[0;34m\u001b[0m\u001b[0;34m\u001b[0m\u001b[0m\n\u001b[0m",
      "\u001b[0;32m/srv/conda/envs/notebook/lib/python3.7/site-packages/ipyvolume/widgets.py\u001b[0m in \u001b[0;36mquickvolshow\u001b[0;34m(data, lighting, data_min, data_max, max_shape, level, opacity, level_width, extent, memorder, **kwargs)\u001b[0m\n\u001b[1;32m    484\u001b[0m         \u001b[0mextent\u001b[0m\u001b[0;34m=\u001b[0m\u001b[0mextent\u001b[0m\u001b[0;34m,\u001b[0m\u001b[0;34m\u001b[0m\u001b[0;34m\u001b[0m\u001b[0m\n\u001b[1;32m    485\u001b[0m         \u001b[0mmemorder\u001b[0m\u001b[0;34m=\u001b[0m\u001b[0mmemorder\u001b[0m\u001b[0;34m,\u001b[0m\u001b[0;34m\u001b[0m\u001b[0;34m\u001b[0m\u001b[0m\n\u001b[0;32m--> 486\u001b[0;31m         \u001b[0;34m**\u001b[0m\u001b[0mkwargs\u001b[0m\u001b[0;34m\u001b[0m\u001b[0;34m\u001b[0m\u001b[0m\n\u001b[0m\u001b[1;32m    487\u001b[0m     )\n\u001b[1;32m    488\u001b[0m     \u001b[0;32mreturn\u001b[0m \u001b[0mipv\u001b[0m\u001b[0;34m.\u001b[0m\u001b[0mgcc\u001b[0m\u001b[0;34m(\u001b[0m\u001b[0;34m)\u001b[0m\u001b[0;34m\u001b[0m\u001b[0;34m\u001b[0m\u001b[0m\n",
      "\u001b[0;32m/srv/conda/envs/notebook/lib/python3.7/site-packages/ipyvolume/pylab.py\u001b[0m in \u001b[0;36mvolshow\u001b[0;34m(data, lighting, data_min, data_max, max_shape, tf, stereo, ambient_coefficient, diffuse_coefficient, specular_coefficient, specular_exponent, downscale, level, opacity, level_width, controls, max_opacity, memorder, extent)\u001b[0m\n\u001b[1;32m    853\u001b[0m \u001b[0;34m\u001b[0m\u001b[0m\n\u001b[1;32m    854\u001b[0m     \u001b[0;32mif\u001b[0m \u001b[0mextent\u001b[0m\u001b[0;34m:\u001b[0m\u001b[0;34m\u001b[0m\u001b[0;34m\u001b[0m\u001b[0m\n\u001b[0;32m--> 855\u001b[0;31m         \u001b[0m_grow_limits\u001b[0m\u001b[0;34m(\u001b[0m\u001b[0;34m*\u001b[0m\u001b[0mextent\u001b[0m\u001b[0;34m)\u001b[0m\u001b[0;34m\u001b[0m\u001b[0;34m\u001b[0m\u001b[0m\n\u001b[0m\u001b[1;32m    856\u001b[0m \u001b[0;34m\u001b[0m\u001b[0m\n\u001b[1;32m    857\u001b[0m     vol = ipv.Volume(\n",
      "\u001b[0;31mTypeError\u001b[0m: _grow_limits() takes 3 positional arguments but 4 were given"
     ]
    }
   ],
   "source": [
    "fs = s3fs.S3FileSystem(anon=True)\n",
    "ll = fs.ls('natural-scenes-dataset/nsddata_betas/ppdata/subj01/func1pt8mm/betas_fithrf_GLMdenoise_RR')\n",
    "\n",
    "betaslist = [l for l in ll if l.split('/')[6].startswith(\"betas\") and l.endswith(\"nii.gz\")]\n",
    "fname = betaslist[0] # which session?\n",
    "fs.get(fname, \"tmp.nii.gz\")\n",
    "\n",
    "check = nib.load(\"tmp.nii.gz\")\n",
    "ipv.quickvolshow(check.get_fdata())"
   ]
  }
 ],
 "metadata": {
  "kernelspec": {
   "display_name": "Python 3 (ipykernel)",
   "language": "python",
   "name": "python3"
  },
  "language_info": {
   "codemirror_mode": {
    "name": "ipython",
    "version": 3
   },
   "file_extension": ".py",
   "mimetype": "text/x-python",
   "name": "python",
   "nbconvert_exporter": "python",
   "pygments_lexer": "ipython3",
   "version": "3.7.12"
  }
 },
 "nbformat": 4,
 "nbformat_minor": 5
}
