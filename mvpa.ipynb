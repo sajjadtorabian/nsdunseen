{
 "cells": [
  {
   "cell_type": "code",
   "execution_count": 9,
   "id": "9ac9b1a4-df11-4ad8-b85c-a26c7ff63b0a",
   "metadata": {},
   "outputs": [
    {
     "name": "stdout",
     "output_type": "stream",
     "text": [
      "Dataset shape is: \n",
      "(750, 1439)\n",
      "231\n"
     ]
    }
   ],
   "source": [
    "import s3fs\n",
    "from mvpa2.datasets.mri import fmri_dataset\n",
    "from mvpa2.clfs.meta import SplitClassifier\n",
    "from mvpa2.generators.partition import NFoldPartitioner\n",
    "\n",
    "import numpy as np\n",
    "from mvpa2 import cfg\n",
    "\n",
    "from mvpa2.clfs.svm import libsvm\n",
    "\n",
    "import pandas as pd\n",
    "\n",
    "clf = libsvm.SVM()\n",
    "\n",
    "sclf = SplitClassifier(clf, NFoldPartitioner(cvtype=1), enable_ca=['stats'])\n",
    "cv_sensana = sclf.get_sensitivity_analyzer()\n",
    "\n",
    "fs = s3fs.S3FileSystem(anon=True)\n",
    "ll = fs.ls('natural-scenes-dataset/nsddata_betas/ppdata/subj01/func1pt8mm/betas_fithrf_GLMdenoise_RR')\n",
    "\n",
    "betaslist = [l for l in ll if l.split('/')[6].startswith(\"betas\") and l.endswith(\"nii.gz\")]\n",
    "fname = betaslist[0] # which session?\n",
    "\n",
    "fs.get(fname, \"tmp.nii.gz\")\n",
    "\n",
    "bt = fmri_dataset(\"tmp.nii.gz\", mask = \"../shared/NSD/TPJ.nii\")\n",
    "\n",
    "print(\"Dataset shape is: \")\n",
    "print(bt.shape)\n",
    "\n",
    "# read from annotations csv file using pandas:\n",
    "annot_file = pd.read_csv(\"../nsdunseen/interaction.csv\")\n",
    "rsp = annot_file.response\n",
    "\n",
    "print(len(rsp))\n",
    "\n",
    "# fds.sa['chnks'] = chunks_labels\n",
    "# fds.sa['trgts'] = targets_labels\n",
    "\n",
    "# zscore(fds, chunks_attr='chnks')\n",
    "\n",
    "# sens = cv_sensana(evds)\n",
    "# sens_comb = sens.get_mapped(\n",
    "#     maxofabs_sample())\n",
    "# nimg = map2nifti(fds, sens_comb)\n",
    "# nimg.to_filename(os.path.join(args.output_dir, subj_name,\n",
    "#                               subj_name + '_task-' + args.task + '_' + ROI_name +\n",
    "#                               _' + 'all' + '_pattern.nii.gz'))"
   ]
  },
  {
   "cell_type": "code",
   "execution_count": null,
   "id": "76095d31-6312-4e20-818d-66727502cfc2",
   "metadata": {},
   "outputs": [],
   "source": [
    "# results = []\n",
    "# for fname in ll: \n",
    "    # fs.get(fname, \"tmp.nii.gz\")\n",
    "    # img = nib.load(\"tmp.nii.gz\")\n",
    "    # XXX do something with one file\n",
    "    \n",
    "    \n",
    "    # Append into total results:\n",
    "    # results.append(XXX)"
   ]
  }
 ],
 "metadata": {
  "kernelspec": {
   "display_name": "Python 3 (ipykernel)",
   "language": "python",
   "name": "python3"
  },
  "language_info": {
   "codemirror_mode": {
    "name": "ipython",
    "version": 3
   },
   "file_extension": ".py",
   "mimetype": "text/x-python",
   "name": "python",
   "nbconvert_exporter": "python",
   "pygments_lexer": "ipython3",
   "version": "3.7.12"
  }
 },
 "nbformat": 4,
 "nbformat_minor": 5
}
